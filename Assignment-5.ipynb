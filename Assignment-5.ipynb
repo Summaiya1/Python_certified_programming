{
 "cells": [
  {
   "cell_type": "code",
   "execution_count": null,
   "metadata": {},
   "outputs": [],
   "source": [
    "Question:5\n",
    "Write a Python function that takes a number as a parameter and check the\n",
    "number is prime or not."
   ]
  },
  {
   "cell_type": "code",
   "execution_count": 14,
   "metadata": {},
   "outputs": [
    {
     "name": "stdout",
     "output_type": "stream",
     "text": [
      "Enter any number 4\n",
      "4 is not prime number\n"
     ]
    }
   ],
   "source": [
    "def check_prime(num):\n",
    "    for i in range(2,num):\n",
    "        if(num%i==0):\n",
    "            return str(num)+' is not prime number'\n",
    "            break\n",
    "        else:\n",
    "            if(i==(num-1) and num%i !=0):\n",
    "                return num\n",
    "\n",
    "\n",
    "\n",
    "\n",
    "num = int(input('Enter any number '))\n",
    "print(check_prime(num))"
   ]
  },
  {
   "cell_type": "code",
   "execution_count": null,
   "metadata": {},
   "outputs": [],
   "source": [
    "Question:1\n",
    "Write a Python function to calculate the factorial of a number (a non-negative\n",
    "integer). The function accepts the number as an argument."
   ]
  },
  {
   "cell_type": "code",
   "execution_count": 16,
   "metadata": {},
   "outputs": [
    {
     "name": "stdout",
     "output_type": "stream",
     "text": [
      "Enter any number 5\n",
      "120\n"
     ]
    }
   ],
   "source": [
    "def calculate_factorial(num):\n",
    "     if num==1:\n",
    "        return 1\n",
    "     else:\n",
    "        return num * (calculate_factorial(num-1))\n",
    "\n",
    "\n",
    "num = int(input('Enter any number '))\n",
    "print(calculate_factorial(num))"
   ]
  },
  {
   "cell_type": "code",
   "execution_count": null,
   "metadata": {},
   "outputs": [],
   "source": [
    "Question:2\n",
    "Write a Python function that accepts a string and calculate the number of upper\n",
    "case letters and lower case letters."
   ]
  },
  {
   "cell_type": "code",
   "execution_count": 3,
   "metadata": {},
   "outputs": [
    {
     "name": "stdout",
     "output_type": "stream",
     "text": [
      "Enter any string SAra\n",
      "Lower letters are2 upper letters are 2\n"
     ]
    }
   ],
   "source": [
    "def count(string):\n",
    "    for s in string:\n",
    "        if(s.islower()):\n",
    "            dict1['l'] += 1\n",
    "        else:\n",
    "            if(s.isupper()):\n",
    "                dict1['u'] += 1\n",
    "            \n",
    "            \n",
    "dict1={'l':0,'u':0}\n",
    "string = input('Enter any string ')\n",
    "count(string)\n",
    "print('Lower letters are' + str(dict1['l']) +' upper letters are '+ str(dict1['u']))"
   ]
  },
  {
   "cell_type": "code",
   "execution_count": null,
   "metadata": {},
   "outputs": [],
   "source": [
    "Question:4\n",
    "Write a Python function that checks whether a passed string is palindrome or not.\n",
    "Note: A palindrome is a word, phrase, or sequence that reads the same\n",
    "backward as forward, e.g., madam"
   ]
  },
  {
   "cell_type": "code",
   "execution_count": 4,
   "metadata": {},
   "outputs": [
    {
     "name": "stdout",
     "output_type": "stream",
     "text": [
      "Enter any string madam\n",
      "string is palindrome\n"
     ]
    }
   ],
   "source": [
    "def check_palindrome(str):\n",
    "    if str==str[::-1]:\n",
    "        return 'string is palindrome'\n",
    "    else:\n",
    "         return 'string is not palindrome'\n",
    "        \n",
    "str = input('Enter any string ')\n",
    "print(check_palindrome(str))       "
   ]
  },
  {
   "cell_type": "code",
   "execution_count": null,
   "metadata": {},
   "outputs": [],
   "source": [
    "Question:3\n",
    "Write a Python function to print the even numbers from a given list."
   ]
  },
  {
   "cell_type": "code",
   "execution_count": 6,
   "metadata": {},
   "outputs": [
    {
     "name": "stdout",
     "output_type": "stream",
     "text": [
      "\n",
      "Enter the elements of list : 2 4 5 6 8 3\n",
      "The following are the even numbers in list\n",
      "2\n",
      "4\n",
      "6\n",
      "8\n"
     ]
    }
   ],
   "source": [
    "list1 = list((input(\"\\nEnter the elements of list : \").strip().split()))\n",
    "list2=[]\n",
    "\n",
    "for i in list1:\n",
    "    if(int(i)%2==0):\n",
    "        list2.append(i)\n",
    "        \n",
    "print('The following are the even numbers in list') \n",
    "for i in list2:\n",
    "    print(i)"
   ]
  },
  {
   "cell_type": "code",
   "execution_count": null,
   "metadata": {},
   "outputs": [],
   "source": [
    "Question: 6\n",
    "Suppose a customer is shopping in a market and you need to print all the items\n",
    "which user bought from market.\n",
    "Write a function which accepts the multiple arguments of user shopping list and\n",
    "print all the items which user bought from market."
   ]
  },
  {
   "cell_type": "code",
   "execution_count": 7,
   "metadata": {},
   "outputs": [
    {
     "name": "stdout",
     "output_type": "stream",
     "text": [
      "\n",
      "Enter the things you have bought from shopping : apple banana \n",
      "Following items are bought in shopping\n",
      "apple\n",
      "banana\n"
     ]
    }
   ],
   "source": [
    "def shopping_items(list1):\n",
    "    print('Following items are bought in shopping')\n",
    "    for i in list1:\n",
    "        print(i)\n",
    "\n",
    "list1 = list((input(\"\\nEnter the things you have bought from shopping : \").strip().split()))\n",
    "\n",
    "shopping_items(list1)"
   ]
  },
  {
   "cell_type": "code",
   "execution_count": null,
   "metadata": {},
   "outputs": [],
   "source": []
  }
 ],
 "metadata": {
  "kernelspec": {
   "display_name": "Python 3",
   "language": "python",
   "name": "python3"
  },
  "language_info": {
   "codemirror_mode": {
    "name": "ipython",
    "version": 3
   },
   "file_extension": ".py",
   "mimetype": "text/x-python",
   "name": "python",
   "nbconvert_exporter": "python",
   "pygments_lexer": "ipython3",
   "version": "3.7.3"
  }
 },
 "nbformat": 4,
 "nbformat_minor": 2
}

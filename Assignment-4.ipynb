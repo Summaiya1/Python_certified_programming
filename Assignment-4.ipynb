{
 "cells": [
  {
   "cell_type": "markdown",
   "metadata": {},
   "source": [
    "# Q1"
   ]
  },
  {
   "cell_type": "code",
   "execution_count": null,
   "metadata": {},
   "outputs": [],
   "source": [
    "Use a dictionary to store information about a person you know. Store their first name, last name, age,\n",
    "and the city in which they live. You should have keys such as first_name, last_name, age, and city. Print\n",
    "each piece of information stored in your dictionary. Add a new key value pair about qualification then\n",
    "update the qualification value to high academic level then delete it."
   ]
  },
  {
   "cell_type": "code",
   "execution_count": 4,
   "metadata": {},
   "outputs": [
    {
     "name": "stdout",
     "output_type": "stream",
     "text": [
      "first name: Sara\n",
      "last name: Bano\n",
      "Age: 11\n",
      "City: Karachi\n"
     ]
    }
   ],
   "source": [
    "dict_info = {}\n",
    "dict_info['first name']='Sara'\n",
    "dict_info['last name']='Bano'\n",
    "dict_info['Age']=11\n",
    "dict_info['City']='Karachi'\n",
    "for key,values in dict_info.items():\n",
    "    print(key+':',values)"
   ]
  },
  {
   "cell_type": "code",
   "execution_count": 5,
   "metadata": {},
   "outputs": [],
   "source": [
    "dict_info['qualification']='High Academic Level'"
   ]
  },
  {
   "cell_type": "code",
   "execution_count": 6,
   "metadata": {},
   "outputs": [
    {
     "name": "stdout",
     "output_type": "stream",
     "text": [
      "first name: Sara\n",
      "last name: Bano\n",
      "Age: 11\n",
      "City: Karachi\n",
      "qualification: High Academic Level\n"
     ]
    }
   ],
   "source": [
    "for key,values in dict_info.items():\n",
    "    print(key+':',values)"
   ]
  },
  {
   "cell_type": "code",
   "execution_count": 7,
   "metadata": {},
   "outputs": [],
   "source": [
    "del dict_info['qualification']"
   ]
  },
  {
   "cell_type": "markdown",
   "metadata": {},
   "source": [
    "# Q2"
   ]
  },
  {
   "cell_type": "code",
   "execution_count": null,
   "metadata": {},
   "outputs": [],
   "source": [
    "Make a dictionary called cities. Use the names of three cities as keys in your dictionary. Create a\n",
    "dictionary of information about each city and include the country that the city is in, its approximate\n",
    "population, and one fact about that city. The keys for each city’s dictionary should be something like\n",
    "country, population, and fact. Print the name of each city and all of the information you have stored\n",
    "about it."
   ]
  },
  {
   "cell_type": "code",
   "execution_count": 12,
   "metadata": {},
   "outputs": [
    {
     "name": "stdout",
     "output_type": "stream",
     "text": [
      "karachi: {'country': 'Pakistan', 'population': '14.91 million', 'fact': 'City of Lights'}\n",
      "Lahore: {'country': 'Pakistan', 'population': '11.31 million', 'fact': 'City of Gardens'}\n",
      "Islamabad: {'country': 'Pakistan', 'population': '1.01 million', 'fact': 'Capital Of Pakistan'}\n"
     ]
    }
   ],
   "source": [
    "cities = {'karachi':{'country':'Pakistan','population':'14.91 million','fact':'City of Lights'},\n",
    "          'Lahore':{'country':'Pakistan','population':'11.31 million','fact':'City of Gardens'},'Islamabad':{'country':'Pakistan','population':'1.01 million','fact':'Capital Of Pakistan'}}\n",
    "\n",
    "for key,items in cities.items():\n",
    "    print(key+':',items)"
   ]
  },
  {
   "cell_type": "markdown",
   "metadata": {},
   "source": [
    "# Q3"
   ]
  },
  {
   "cell_type": "code",
   "execution_count": null,
   "metadata": {},
   "outputs": [],
   "source": [
    "A movie theater charges different ticket prices depending on a person’s age. If a person is under the age\n",
    "of 3, the ticket is free; if they are between 3 and 12, the ticket is $10; and if they are over age 12, the\n",
    "ticket is $15. Write a loop in which you ask users their age, and then tell them the cost of their movie\n",
    "ticket."
   ]
  },
  {
   "cell_type": "code",
   "execution_count": 16,
   "metadata": {},
   "outputs": [
    {
     "name": "stdout",
     "output_type": "stream",
     "text": [
      "Enter your age : 2\n",
      "You again want to buy ticket(yes/no) : yes\n",
      "Enter your age : 10\n",
      "You again want to buy ticket(yes/no) : no\n"
     ]
    }
   ],
   "source": [
    "def price(a):\n",
    "    if(a<3):\n",
    "        return ('Free ticket')\n",
    "    elif(a>=3 and a<=12):\n",
    "        return ('$10')\n",
    "    else:\n",
    "        return('$15')\n",
    "    \n",
    "flag=True\n",
    "while flag:\n",
    "    a=int(input('Enter your age : '))\n",
    "    price(a)\n",
    "    b=input(\"You again want to buy ticket(yes/no) : \")\n",
    "    if(b=='yes'):\n",
    "        flag=True\n",
    "    else:\n",
    "        flag=False"
   ]
  },
  {
   "cell_type": "markdown",
   "metadata": {},
   "source": [
    "# Q4"
   ]
  },
  {
   "cell_type": "code",
   "execution_count": null,
   "metadata": {},
   "outputs": [],
   "source": [
    "Write a function called favorite_book() that accepts one parameter, title. The function should print a\n",
    "message, such as One of my favorite books is Alice in Wonderland. Call the function, making sure to\n",
    "include a book title as an argument in the function call."
   ]
  },
  {
   "cell_type": "code",
   "execution_count": 18,
   "metadata": {},
   "outputs": [
    {
     "name": "stdout",
     "output_type": "stream",
     "text": [
      "Enter your favorite book name Alice in Wonderland\n",
      "One of my favorite book is Alice in Wonderland\n"
     ]
    }
   ],
   "source": [
    "def favorite_book(title):\n",
    "    print('One of my favorite book is ' + title)\n",
    "\n",
    "title=input('Enter your favorite book name ')\n",
    "favorite_book(title)"
   ]
  },
  {
   "cell_type": "markdown",
   "metadata": {},
   "source": [
    "# Q5"
   ]
  },
  {
   "cell_type": "code",
   "execution_count": null,
   "metadata": {},
   "outputs": [],
   "source": [
    "Guess the number game\n",
    "Write a program which randomly generate a number between 1 to 30 and ask the user in input field to\n",
    "guess the correct number. Give three chances to user guess the number and also give hint to user if\n",
    "hidden number is greater or smaller than the number he given to input field."
   ]
  },
  {
   "cell_type": "code",
   "execution_count": 23,
   "metadata": {},
   "outputs": [
    {
     "name": "stdout",
     "output_type": "stream",
     "text": [
      "Enter any number between 1-30 : 1\n",
      "hint::Wrong! your number is lesser than actual number\n",
      "Enter any number between 1-30 : 20\n",
      "hint::Wrong! your number is greater than actual number\n",
      "Enter any number between 1-30 : 10\n",
      "hint::Wrong! your number is lesser than actual number\n",
      "Sorry all the chances are lost\n"
     ]
    }
   ],
   "source": [
    "from random import randrange\n",
    "flag=True\n",
    "temp=0\n",
    "while  flag:\n",
    "    num= randrange(1,30)\n",
    "    a=int(input('Enter any number between 1-30 : '))\n",
    "    if(a==num):\n",
    "        print('Correctly guess!!!!!!!!!')\n",
    "        flag = False\n",
    "    else:\n",
    "        if(a>num):\n",
    "            print('hint::Wrong! your number is greater than actual number')\n",
    "            temp=temp+1\n",
    "        else:\n",
    "            print('hint::Wrong! your number is lesser than actual number')\n",
    "            temp=temp+1\n",
    "        if(temp!=3):\n",
    "            flag=True\n",
    "        else:\n",
    "            print('Sorry all the chances are lost')\n",
    "            flag=False\n",
    "    \n",
    "        \n",
    "    "
   ]
  },
  {
   "cell_type": "code",
   "execution_count": null,
   "metadata": {},
   "outputs": [],
   "source": []
  }
 ],
 "metadata": {
  "kernelspec": {
   "display_name": "Python 3",
   "language": "python",
   "name": "python3"
  },
  "language_info": {
   "codemirror_mode": {
    "name": "ipython",
    "version": 3
   },
   "file_extension": ".py",
   "mimetype": "text/x-python",
   "name": "python",
   "nbconvert_exporter": "python",
   "pygments_lexer": "ipython3",
   "version": "3.7.3"
  }
 },
 "nbformat": 4,
 "nbformat_minor": 2
}

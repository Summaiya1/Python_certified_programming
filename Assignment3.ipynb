{
 "cells": [
  {
   "cell_type": "code",
   "execution_count": 2,
   "metadata": {},
   "outputs": [
    {
     "name": "stdout",
     "output_type": "stream",
     "text": [
      "\n",
      "Enter the elements of list : as dd 1\n",
      "Yes this list contains numeric value\n"
     ]
    }
   ],
   "source": [
    "a = list((input(\"\\nEnter the elements of list : \").strip().split()))\n",
    "\n",
    "for i in a:\n",
    "    if(i.isdigit()):\n",
    "        print('Yes this list contains numeric value')\n",
    "        break\n"
   ]
  },
  {
   "cell_type": "code",
   "execution_count": 4,
   "metadata": {},
   "outputs": [
    {
     "name": "stdout",
     "output_type": "stream",
     "text": [
      "Enter any key to be add in empty dictionaryname\n",
      "{'name': ''}\n"
     ]
    }
   ],
   "source": [
    "empty_dict={}\n",
    "a=input('Enter any key to be add in empty dictionary')\n",
    "empty_dict[a]=''\n",
    "print(empty_dict)"
   ]
  },
  {
   "cell_type": "code",
   "execution_count": 3,
   "metadata": {},
   "outputs": [
    {
     "name": "stdout",
     "output_type": "stream",
     "text": [
      "The sum of numeric items in dictionary is 6\n"
     ]
    }
   ],
   "source": [
    "adict = {'a':'b','1':'2','3':'4'}\n",
    "x=[]\n",
    "for k in adict.values():\n",
    "    if(k.isdigit()):\n",
    "        x.append(int(k))\n",
    "\n",
    "print('The sum of numeric items in dictionary is {0}'.format(sum(x)))"
   ]
  },
  {
   "cell_type": "code",
   "execution_count": 2,
   "metadata": {},
   "outputs": [
    {
     "name": "stdout",
     "output_type": "stream",
     "text": [
      "enter any key to be find age\n",
      "age is in dictionary\n"
     ]
    }
   ],
   "source": [
    "bdict={'name':'Sara','age':12}\n",
    "\n",
    "a = input(\"enter any key to be find \")\n",
    "if(a in bdict.keys()):\n",
    "    print('{0} is in dictionary'.format(a))\n",
    "else:\n",
    "    print('{0} is in dictionary'.format(a))"
   ]
  },
  {
   "cell_type": "code",
   "execution_count": null,
   "metadata": {},
   "outputs": [],
   "source": [
    "a = list(map(int,input(\"\\nEnter the numbers : \").strip().split())\n",
    "\n",
    "set_ = set(a)         \n"
   ]
  },
  {
   "cell_type": "code",
   "execution_count": 12,
   "metadata": {},
   "outputs": [
    {
     "name": "stdout",
     "output_type": "stream",
     "text": [
      "[20, 20, 30, 30, 40, 50]\n",
      "The duplicate items are:\n",
      "\n",
      "20\n",
      "30\n"
     ]
    }
   ],
   "source": [
    "my_list = [20,30,20,30,40,50]\n",
    " \n",
    "my_list.sort()\n",
    "print(my_list)\n",
    " \n",
    "new_list = sorted(set(my_list))\n",
    "dup_list =[]\n",
    " \n",
    "for i in range(len(new_list)):\n",
    "        if (my_list.count(new_list[i]) > 1 ):\n",
    "            dup_list.append(new_list[i])\n",
    "            \n",
    "print('The duplicate items are:\\n')        \n",
    "for i in dup_list:\n",
    "    print(i) "
   ]
  },
  {
   "cell_type": "code",
   "execution_count": 13,
   "metadata": {},
   "outputs": [
    {
     "name": "stdout",
     "output_type": "stream",
     "text": [
      "Select operation.\n",
      "1.Add\n",
      "2.Subtract\n",
      "3.Multiply\n",
      "4.Divide\n",
      "5.Power\n",
      "Enter choice 1 2 3 4 5: 5\n",
      "Enter first number: 1\n",
      "Enter second number: 2\n",
      "1.0 ** 2.0 = 1.0\n"
     ]
    }
   ],
   "source": [
    "def add(x, y):\n",
    "    return x + y\n",
    "def subtract(x, y):\n",
    "    return x - y\n",
    "def multiply(x, y):\n",
    "    return x * y\n",
    "def divide(x, y):\n",
    "    return x / y\n",
    "def power(x, y):\n",
    "    return x**y\n",
    "print(\"Select operation.\")\n",
    "print(\"1.Add\")\n",
    "print(\"2.Subtract\")\n",
    "print(\"3.Multiply\")\n",
    "print(\"4.Divide\")\n",
    "print(\"5.Power\")\n",
    "# Take input from the user \n",
    "choice = input(\"Enter choice 1 2 3 4 5: \")\n",
    "num1 = float(input(\"Enter first number: \"))\n",
    "num2 = float(input(\"Enter second number: \"))\n",
    "if choice == '1':\n",
    "    print(num1,\"+\",num2,\"=\", add(num1,num2))\n",
    "elif choice == '2':\n",
    "    print(num1,\"-\",num2,\"=\", subtract(num1,num2))\n",
    "elif choice == '3':\n",
    "    print(num1,\"*\",num2,\"=\", multiply(num1,num2))\n",
    "elif choice == '4':\n",
    "    print(num1,\"/\",num2,\"=\", divide(num1,num2))\n",
    "elif choice== '5':\n",
    "    print(num1,\"**\",num2,\"=\", power(num1,num2))\n",
    "else:\n",
    "    print(\"Invalid input\")"
   ]
  },
  {
   "cell_type": "code",
   "execution_count": null,
   "metadata": {},
   "outputs": [],
   "source": []
  },
  {
   "cell_type": "code",
   "execution_count": null,
   "metadata": {},
   "outputs": [],
   "source": []
  }
 ],
 "metadata": {
  "kernelspec": {
   "display_name": "Python 3",
   "language": "python",
   "name": "python3"
  },
  "language_info": {
   "codemirror_mode": {
    "name": "ipython",
    "version": 3
   },
   "file_extension": ".py",
   "mimetype": "text/x-python",
   "name": "python",
   "nbconvert_exporter": "python",
   "pygments_lexer": "ipython3",
   "version": "3.7.3"
  }
 },
 "nbformat": 4,
 "nbformat_minor": 2
}

{
 "cells": [
  {
   "cell_type": "markdown",
   "metadata": {},
   "source": [
    "# 1. Write a program which takes 5 inputs from user for different subject’smarks, total it and generate mark sheet using grades ?"
   ]
  },
  {
   "cell_type": "code",
   "execution_count": 7,
   "metadata": {},
   "outputs": [
    {
     "name": "stdout",
     "output_type": "stream",
     "text": [
      "Enter marks of 1st subject 91\n",
      "Enter marks of 2st subject 91\n",
      "Enter marks of 3st subject 91\n",
      "Enter marks of 4st subject 91\n",
      "Enter marks of 5st subject 91\n",
      "\n",
      "\n",
      "_______________MARKSHEET________________\n",
      "\n",
      "Percentage = 91.0%  GRADE = A+\n"
     ]
    }
   ],
   "source": [
    "\n",
    "empty=[]\n",
    "for i in range(5):\n",
    "    a=int(input(\"Enter marks of {0}st subject \".format(i+1)))\n",
    "    empty.append(a)\n",
    "\n",
    "total=500\n",
    "percentage=(sum(empty)/total)*100\n",
    "\n",
    "if(percentage>=float(90)):\n",
    "    grade = 'A+'\n",
    "elif(percentage<float(90) and percentage >= float(80)):\n",
    "    grade= 'A'\n",
    "elif(percentage<float(80) and percentage >=float(70)):\n",
    "    grade = 'B'\n",
    "elif(percentage<float(70) and percentage >=float(60)):\n",
    "    grade = 'C'\n",
    "else:\n",
    "    grade = 'FAIL'\n",
    "print('\\n\\n_______________MARKSHEET________________\\n')\n",
    "print('Percentage = {0}%  GRADE = {1}'.format(percentage,grade))"
   ]
  },
  {
   "cell_type": "markdown",
   "metadata": {},
   "source": [
    "# 2. Write a program which take input from user and identify that the given number is even or odd?"
   ]
  },
  {
   "cell_type": "code",
   "execution_count": 9,
   "metadata": {},
   "outputs": [
    {
     "name": "stdout",
     "output_type": "stream",
     "text": [
      "Enter any number7\n",
      "7 is an odd number\n"
     ]
    }
   ],
   "source": [
    "n = int(input('Enter any number'))\n",
    "\n",
    "if(n%2==0):\n",
    "    print('{0} is an even number'.format(n))\n",
    "else:\n",
    "    print('{0} is an odd number'.format(n))"
   ]
  },
  {
   "cell_type": "markdown",
   "metadata": {},
   "source": [
    "# 3. Write a program which print the length of the list?"
   ]
  },
  {
   "cell_type": "code",
   "execution_count": 10,
   "metadata": {},
   "outputs": [
    {
     "name": "stdout",
     "output_type": "stream",
     "text": [
      "\n",
      "Enter the numbers : 1 2 3 4 5\n",
      " length of list is 5\n"
     ]
    }
   ],
   "source": [
    "\n",
    "a = list(map(int,input(\"\\nEnter the numbers : \").strip().split()))\n",
    "\n",
    "print(' length of list is {0}'.format(len(a)))"
   ]
  },
  {
   "cell_type": "markdown",
   "metadata": {},
   "source": [
    "# Write a Python program to sum all the numeric items in a list?"
   ]
  },
  {
   "cell_type": "code",
   "execution_count": 22,
   "metadata": {},
   "outputs": [
    {
     "name": "stdout",
     "output_type": "stream",
     "text": [
      "\n",
      "Enter the elements of list : 1 dasda 4 6\n",
      "The sum of numeric items in list is 11\n"
     ]
    }
   ],
   "source": [
    "a = list((input(\"\\nEnter the elements of list : \").strip().split()))\n",
    "\n",
    "_list = [int(s) for s in a if s.isdigit()]\n",
    "\n",
    "print('The sum of numeric items in list is {0}'.format(sum(_list)))"
   ]
  },
  {
   "cell_type": "markdown",
   "metadata": {},
   "source": [
    "# 5. Write a Python program to get the largest number from a numeric list."
   ]
  },
  {
   "cell_type": "code",
   "execution_count": 23,
   "metadata": {},
   "outputs": [
    {
     "name": "stdout",
     "output_type": "stream",
     "text": [
      "\n",
      "Enter the elements of list : a 4 5\n",
      "The largest numeric item in list is 5\n"
     ]
    }
   ],
   "source": [
    "a = list((input(\"\\nEnter the elements of list : \").strip().split()))\n",
    "\n",
    "_list = [int(s) for s in a if s.isdigit()]\n",
    "\n",
    "print('The largest numeric item in list is {0}'.format(max(_list)))"
   ]
  },
  {
   "cell_type": "markdown",
   "metadata": {},
   "source": [
    "# write a program that prints out all the elements of the list that are less than 5."
   ]
  },
  {
   "cell_type": "code",
   "execution_count": 35,
   "metadata": {},
   "outputs": [
    {
     "name": "stdout",
     "output_type": "stream",
     "text": [
      "\n",
      "Enter the elements of list : 1 2 3\n",
      "[1, 2, 3]\n",
      "\n",
      " Following elements are less than 5\n",
      "1\n",
      "2\n",
      "3\n"
     ]
    }
   ],
   "source": [
    "a = list((input(\"\\nEnter the elements of list : \").strip().split()))\n",
    "\n",
    "_list = [int(s) for s in a if s.isdigit()]\n",
    "print(_list)\n",
    "print('\\n Following elements are less than 5')    \n",
    "for i in _list:\n",
    "    if( i < 5):\n",
    "        print(i)\n",
    "        "
   ]
  },
  {
   "cell_type": "code",
   "execution_count": null,
   "metadata": {},
   "outputs": [],
   "source": []
  }
 ],
 "metadata": {
  "kernelspec": {
   "display_name": "Python 3",
   "language": "python",
   "name": "python3"
  },
  "language_info": {
   "codemirror_mode": {
    "name": "ipython",
    "version": 3
   },
   "file_extension": ".py",
   "mimetype": "text/x-python",
   "name": "python",
   "nbconvert_exporter": "python",
   "pygments_lexer": "ipython3",
   "version": "3.7.3"
  }
 },
 "nbformat": 4,
 "nbformat_minor": 2
}

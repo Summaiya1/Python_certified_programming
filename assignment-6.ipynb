{
 "cells": [
  {
   "cell_type": "code",
   "execution_count": null,
   "metadata": {},
   "outputs": [],
   "source": [
    "'''\n",
    "Question 1:\n",
    "OOP: (OBJECT ORIENTED PROGRAMMING)\n",
    " object is the  main idea in OOP , object contains variables/knowledge and methods/works, which enable the programmers to \n",
    " to cope up with things like in real-life existence\n",
    "\n",
    "'''"
   ]
  },
  {
   "cell_type": "code",
   "execution_count": null,
   "metadata": {},
   "outputs": [],
   "source": [
    "'''\n",
    "Question 2:\n",
    "List down the Benefits of OOP?\n",
    "\n",
    "OOP enables the programmers to hide unnecessary details i.e. data hiding by providing acees specifier (private/public)\n",
    "also it enables the programmers to implement overloading i.e. can use one method for different implementations.\n",
    "code reusability is one of the best feature of OOP\n",
    "\n",
    "\n",
    "'''"
   ]
  },
  {
   "cell_type": "code",
   "execution_count": null,
   "metadata": {},
   "outputs": [],
   "source": [
    "'''\n",
    "Question 3:\n",
    "Differentiate between function and method?\n",
    "\n",
    "Function is piece of code that is called by it's name ,have parameters  and it is not associated with any class.\n",
    "\n",
    "but\n",
    "\n",
    "method is functionality of object , and method is always associated with class and can only use variables/data used \n",
    "class or pass by object\n",
    "'''"
   ]
  },
  {
   "cell_type": "code",
   "execution_count": null,
   "metadata": {},
   "outputs": [],
   "source": [
    "'''\n",
    "\n",
    "Question 4:\n",
    "Define the following terms:\n",
    "1. Class\n",
    "2. Object\n",
    "3. Attribute\n",
    "4. Behavior\n",
    "\n",
    "1.class is blueprint or map of object , showing it's attributes and behaviours.\n",
    "2.object is an entity that contains it's own behaviours and attributes.\n",
    "3.Attributes are any data variables or methods that are contained in class.\n",
    "4.Behaviour is method of class i.e showing what object can do.\n",
    "'''"
   ]
  },
  {
   "cell_type": "code",
   "execution_count": 8,
   "metadata": {},
   "outputs": [],
   "source": [
    "class Car():\n",
    "    def __init__(self,color,year,name):\n",
    "        self.color = color\n",
    "        self.model = 'new'\n",
    "        self.year = year\n",
    "        self.name = name\n",
    "        self.gears = 3\n",
    "    def descCar(self):\n",
    "        print(f\"DESCRIPTION : {self.color} & {self.model} & {self.year}\")\n",
    "    def moving(self):\n",
    "        print('car is moving')\n",
    "    def color(self):\n",
    "        print(f'color of car is {self.color}')"
   ]
  },
  {
   "cell_type": "code",
   "execution_count": 9,
   "metadata": {},
   "outputs": [
    {
     "name": "stdout",
     "output_type": "stream",
     "text": [
      "DESCRIPTION : black & new & 2016\n"
     ]
    }
   ],
   "source": [
    "my_car1=Car('black',2016,'my_car')\n",
    "my_car.descCar()"
   ]
  },
  {
   "cell_type": "code",
   "execution_count": 10,
   "metadata": {},
   "outputs": [
    {
     "name": "stdout",
     "output_type": "stream",
     "text": [
      "DESCRIPTION : blue & new & 2016\n"
     ]
    }
   ],
   "source": [
    "my_car2=Car('blue',2016,'my_car')\n",
    "my_car.descCar()"
   ]
  },
  {
   "cell_type": "code",
   "execution_count": 11,
   "metadata": {},
   "outputs": [
    {
     "name": "stdout",
     "output_type": "stream",
     "text": [
      "DESCRIPTION : green & new & 2016\n"
     ]
    }
   ],
   "source": [
    "my_car=Car('green',2016,'my_car')\n",
    "my_car.descCar()"
   ]
  },
  {
   "cell_type": "code",
   "execution_count": 12,
   "metadata": {},
   "outputs": [
    {
     "name": "stdout",
     "output_type": "stream",
     "text": [
      "DESCRIPTION : black & new & 2017\n"
     ]
    }
   ],
   "source": [
    "my_car=Car('black',2017,'my_car')\n",
    "my_car.descCar()"
   ]
  },
  {
   "cell_type": "code",
   "execution_count": null,
   "metadata": {},
   "outputs": [],
   "source": [
    "my_car=Car('black',2018,'altis')\n",
    "my_car.moving()"
   ]
  }
 ],
 "metadata": {
  "kernelspec": {
   "display_name": "Python 3",
   "language": "python",
   "name": "python3"
  },
  "language_info": {
   "codemirror_mode": {
    "name": "ipython",
    "version": 3
   },
   "file_extension": ".py",
   "mimetype": "text/x-python",
   "name": "python",
   "nbconvert_exporter": "python",
   "pygments_lexer": "ipython3",
   "version": "3.7.3"
  }
 },
 "nbformat": 4,
 "nbformat_minor": 2
}
